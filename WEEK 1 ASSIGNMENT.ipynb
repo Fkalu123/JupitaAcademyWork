{
 "cells": [
  {
   "cell_type": "code",
   "execution_count": 3,
   "id": "87dda6e0",
   "metadata": {},
   "outputs": [
    {
     "name": "stdout",
     "output_type": "stream",
     "text": [
      "83\n"
     ]
    }
   ],
   "source": [
    "Grade1 = 25\n",
    "Grade2 = 30\n",
    "Grade3 = 28\n",
    "Total = Grade1 + Grade2 + Grade3\n",
    "print(Total)"
   ]
  },
  {
   "cell_type": "code",
   "execution_count": 11,
   "id": "2a16565e",
   "metadata": {},
   "outputs": [
    {
     "name": "stdout",
     "output_type": "stream",
     "text": [
      "83\n"
     ]
    }
   ],
   "source": [
    "Grades = [25, 30, 28]\n",
    "Totals = sum (Grades)\n",
    "print(Totals)"
   ]
  },
  {
   "cell_type": "code",
   "execution_count": 19,
   "id": "d4b77cc1",
   "metadata": {},
   "outputs": [
    {
     "data": {
      "text/plain": [
       "27.67"
      ]
     },
     "execution_count": 19,
     "metadata": {},
     "output_type": "execute_result"
    }
   ],
   "source": [
    "Average= Total/len (Grades)\n",
    "Average= round(Average,2)\n",
    "Average"
   ]
  },
  {
   "cell_type": "code",
   "execution_count": 20,
   "id": "ff54cb68",
   "metadata": {},
   "outputs": [
    {
     "name": "stdout",
     "output_type": "stream",
     "text": [
      "Hello grade 2 students! Get ready to learn and have fun\n"
     ]
    }
   ],
   "source": [
    "#Question number2 \n",
    "grade1mess= 'welcome to grade 1! we are excited to have you'\n",
    "grade2mess= 'Hello grade 2 students! Get ready to learn and have fun'\n",
    "grade3mess= \"welcome grade 3 students. Let's make this a great year of learning\"\n",
    "print(grade2mess)"
   ]
  },
  {
   "cell_type": "code",
   "execution_count": 26,
   "id": "1b020350",
   "metadata": {},
   "outputs": [
    {
     "name": "stdout",
     "output_type": "stream",
     "text": [
      "['Grade_1,Grade_2,Grade_3']\n"
     ]
    }
   ],
   "source": [
    "#list of grades\n",
    "gradelist = ['Grade_1,Grade_2,Grade_3']\n",
    "print(gradelist)"
   ]
  },
  {
   "cell_type": "code",
   "execution_count": 33,
   "id": "a2181ffd",
   "metadata": {},
   "outputs": [
    {
     "data": {
      "text/plain": [
       "'Science'"
      ]
     },
     "execution_count": 33,
     "metadata": {},
     "output_type": "execute_result"
    }
   ],
   "source": [
    "#list of subjects for each grade\n",
    "grade1sub= ['Maths', 'English', 'Science']\n",
    "grade2sub= ['English', 'Science','History']\n",
    "grade3sub= ['Science','History','Maths']\n",
    "subjectlist=[['Maths', 'English', 'Science'],['English', 'Science','History'],['Science','History','Maths']]\n",
    "subjectlist [0][2]\n"
   ]
  },
  {
   "cell_type": "code",
   "execution_count": 34,
   "id": "ba376a38",
   "metadata": {},
   "outputs": [
    {
     "data": {
      "text/plain": [
       "[['Maths', 'English', 'Science'],\n",
       " ['English', 'Science', 'History'],\n",
       " ['Science', 'History', 'Maths']]"
      ]
     },
     "execution_count": 34,
     "metadata": {},
     "output_type": "execute_result"
    }
   ],
   "source": [
    "subjectlist"
   ]
  },
  {
   "cell_type": "code",
   "execution_count": 49,
   "id": "6c1ecb05",
   "metadata": {},
   "outputs": [],
   "source": [
    "#Dictionary\n",
    "dict= {'grade1teach':{'Mr Smith','Ms Johnson', 'Mr Davis'},\n",
    "       'grade2teach':{'Ms Williams', 'Mr Davis', 'Ms Brown'},\n",
    "       'grade3teach':{'Ms Davis','Mr Johnson','Mr Smith'}}"
   ]
  },
  {
   "cell_type": "code",
   "execution_count": 50,
   "id": "0e64966a",
   "metadata": {},
   "outputs": [
    {
     "data": {
      "text/plain": [
       "{'grade1teach': {'Mr Davis', 'Mr Smith', 'Ms Johnson'},\n",
       " 'grade2teach': {'Mr Davis', 'Ms Brown', 'Ms Williams'},\n",
       " 'grade3teach': {'Mr Johnson', 'Mr Smith', 'Ms Davis'}}"
      ]
     },
     "execution_count": 50,
     "metadata": {},
     "output_type": "execute_result"
    }
   ],
   "source": [
    "dict"
   ]
  },
  {
   "cell_type": "code",
   "execution_count": 59,
   "id": "1d06ffe4",
   "metadata": {},
   "outputs": [
    {
     "data": {
      "text/plain": [
       "['Science', 'History', 'Maths']"
      ]
     },
     "execution_count": 59,
     "metadata": {},
     "output_type": "execute_result"
    }
   ],
   "source": [
    "#subjects taught in grade 3\n",
    "grade3sub"
   ]
  },
  {
   "cell_type": "code",
   "execution_count": null,
   "id": "9582be43",
   "metadata": {},
   "outputs": [],
   "source": [
    "#values of Grade 2 in the dictionary"
   ]
  }
 ],
 "metadata": {
  "kernelspec": {
   "display_name": "Python 3 (ipykernel)",
   "language": "python",
   "name": "python3"
  },
  "language_info": {
   "codemirror_mode": {
    "name": "ipython",
    "version": 3
   },
   "file_extension": ".py",
   "mimetype": "text/x-python",
   "name": "python",
   "nbconvert_exporter": "python",
   "pygments_lexer": "ipython3",
   "version": "3.11.5"
  }
 },
 "nbformat": 4,
 "nbformat_minor": 5
}
